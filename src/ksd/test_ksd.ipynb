{
 "cells": [
  {
   "cell_type": "code",
   "execution_count": 1,
   "metadata": {},
   "outputs": [
    {
     "name": "stdout",
     "output_type": "stream",
     "text": [
      "False\n"
     ]
    }
   ],
   "source": [
    "from tqdm import tqdm\n",
    "\n",
    "import torch\n",
    "from torch.autograd import Variable, Function\n",
    "from torch.autograd import grad\n",
    "\n",
    "import autograd.numpy as np\n",
    "from scipy.stats import norm\n",
    "import matplotlib.pyplot as plt\n",
    "%matplotlib inline\n",
    "\n",
    "from example_Gaussian import Gaussian\n",
    "# from stein_LSoperator import stein_LS\n",
    "\n",
    "from kernels import InverseMultiquadricKernel\n",
    "from discrepancies import KSD\n",
    "# from stein_cc import stein_cc\n",
    "\n",
    "import seaborn as sns\n",
    "sns.set()"
   ]
  },
  {
   "cell_type": "code",
   "execution_count": 15,
   "metadata": {},
   "outputs": [],
   "source": [
    "# p has known log-lik derivative\n",
    "# q only has a set of samples\n",
    "n = 2000\n",
    "\n",
    "p = Gaussian(dict(mu=np.array([1, 0., 0.]), sigma=np.eye(3)))\n",
    "q = Gaussian(dict(mu=np.array([0., 0., 0.]), sigma=np.eye(3)))\n",
    "q_dat = q.sampler(n)"
   ]
  },
  {
   "cell_type": "code",
   "execution_count": 16,
   "metadata": {},
   "outputs": [],
   "source": [
    "gaussian_ksd = KSD('imq', dict(c=1, beta=-0.5), p=p, q=q_dat)"
   ]
  },
  {
   "cell_type": "code",
   "execution_count": 17,
   "metadata": {},
   "outputs": [
    {
     "name": "stderr",
     "output_type": "stream",
     "text": [
      "100%|██████████| 2000/2000 [39:25<00:00,  1.18s/it]\n"
     ]
    }
   ],
   "source": [
    "ksd_list = gaussian_ksd.discrepancy()\n",
    "# use cuda to speed up the double for loop!!"
   ]
  },
  {
   "cell_type": "code",
   "execution_count": 19,
   "metadata": {},
   "outputs": [
    {
     "data": {
      "text/plain": [
       "0.6939666267250956"
      ]
     },
     "execution_count": 19,
     "metadata": {},
     "output_type": "execute_result"
    }
   ],
   "source": [
    "ksd_list\n",
    "# n=100 gives 0.6756737843337886\n",
    "# n=1000 gives 0.708235921979569\n",
    "# n=2000 gives 0.6939666267250956"
   ]
  },
  {
   "cell_type": "code",
   "execution_count": 18,
   "metadata": {},
   "outputs": [
    {
     "name": "stdout",
     "output_type": "stream",
     "text": [
      "0\n",
      "False\n"
     ]
    }
   ],
   "source": [
    "print(torch.cuda.device_count())\n",
    "print(torch.cuda.is_available())"
   ]
  },
  {
   "cell_type": "code",
   "execution_count": null,
   "metadata": {},
   "outputs": [],
   "source": []
  }
 ],
 "metadata": {
  "interpreter": {
   "hash": "57d879c1bab31ddce3f98747a90aac1ecdf0d747d4f9b6f921c92f41b19b21c9"
  },
  "kernelspec": {
   "display_name": "Python 3.8.12 64-bit ('pytorch_env': conda)",
   "language": "python",
   "name": "python3"
  },
  "language_info": {
   "codemirror_mode": {
    "name": "ipython",
    "version": 3
   },
   "file_extension": ".py",
   "mimetype": "text/x-python",
   "name": "python",
   "nbconvert_exporter": "python",
   "pygments_lexer": "ipython3",
   "version": "3.8.12"
  },
  "orig_nbformat": 4
 },
 "nbformat": 4,
 "nbformat_minor": 2
}
