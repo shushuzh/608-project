{
 "cells": [
  {
   "cell_type": "code",
   "execution_count": 77,
   "metadata": {},
   "outputs": [],
   "source": [
    "from tqdm import tqdm\n",
    "\n",
    "import torch\n",
    "from torch.autograd import Variable, Function\n",
    "from torch.autograd import grad\n",
    "\n",
    "import autograd.numpy as np\n",
    "from scipy.stats import norm\n",
    "import matplotlib.pyplot as plt\n",
    "%matplotlib inline\n",
    "\n",
    "from example_Gaussian import Gaussian\n",
    "# from stein_LSoperator import stein_LS\n",
    "\n",
    "from kernels import InverseMultiquadricKernel\n",
    "from discrepancies import KSD\n",
    "# from stein_cc import stein_cc\n",
    "\n",
    "import seaborn as sns\n",
    "sns.set()"
   ]
  },
  {
   "cell_type": "code",
   "execution_count": 78,
   "metadata": {},
   "outputs": [],
   "source": [
    "# p has known log-lik derivative\n",
    "# q only has a set of samples\n",
    "n = int(1000)\n",
    "\n",
    "p = Gaussian(dict(mu=np.array([1, 0., 0.]), sigma=np.eye(3)))\n",
    "q = Gaussian(dict(mu=np.array([0., 0., 0.]), sigma=np.eye(3)))\n",
    "q_dat = q.sampler(n)"
   ]
  },
  {
   "cell_type": "code",
   "execution_count": 79,
   "metadata": {},
   "outputs": [],
   "source": [
    "gaussian_ksd = KSD('imq', dict(c=1, beta=-0.5), p, q_dat)"
   ]
  },
  {
   "cell_type": "code",
   "execution_count": 80,
   "metadata": {},
   "outputs": [
    {
     "ename": "AttributeError",
     "evalue": "'KSD' object has no attribute 'discrepancy'",
     "output_type": "error",
     "traceback": [
      "\u001b[0;31m---------------------------------------------------------------------------\u001b[0m",
      "\u001b[0;31mAttributeError\u001b[0m                            Traceback (most recent call last)",
      "\u001b[0;32m/var/folders/mk/v7mw8qg94t501xmh6h0x7d8m0000gs/T/ipykernel_16450/1023455648.py\u001b[0m in \u001b[0;36m<module>\u001b[0;34m\u001b[0m\n\u001b[0;32m----> 1\u001b[0;31m \u001b[0mgaussian_ksd\u001b[0m\u001b[0;34m.\u001b[0m\u001b[0mdiscrepancy\u001b[0m\u001b[0;34m(\u001b[0m\u001b[0;34m)\u001b[0m\u001b[0;34m\u001b[0m\u001b[0;34m\u001b[0m\u001b[0m\n\u001b[0m",
      "\u001b[0;31mAttributeError\u001b[0m: 'KSD' object has no attribute 'discrepancy'"
     ]
    }
   ],
   "source": [
    "gaussian_ksd.discrepancy()\n",
    "# error???\n",
    "# 'KSD' object has no attribute 'discrepancy'"
   ]
  },
  {
   "cell_type": "code",
   "execution_count": null,
   "metadata": {},
   "outputs": [],
   "source": []
  }
 ],
 "metadata": {
  "interpreter": {
   "hash": "57d879c1bab31ddce3f98747a90aac1ecdf0d747d4f9b6f921c92f41b19b21c9"
  },
  "kernelspec": {
   "display_name": "Python 3.8.12 64-bit ('pytorch_env': conda)",
   "language": "python",
   "name": "python3"
  },
  "language_info": {
   "codemirror_mode": {
    "name": "ipython",
    "version": 3
   },
   "file_extension": ".py",
   "mimetype": "text/x-python",
   "name": "python",
   "nbconvert_exporter": "python",
   "pygments_lexer": "ipython3",
   "version": "3.8.12"
  },
  "orig_nbformat": 4
 },
 "nbformat": 4,
 "nbformat_minor": 2
}
