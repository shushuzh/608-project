{
 "cells": [
  {
   "cell_type": "code",
   "execution_count": 1,
   "metadata": {},
   "outputs": [
    {
     "name": "stdout",
     "output_type": "stream",
     "text": [
      "False\n"
     ]
    }
   ],
   "source": [
    "from tqdm import tqdm\n",
    "\n",
    "import torch\n",
    "from torch.autograd import Variable, Function\n",
    "from torch.autograd import grad\n",
    "\n",
    "import autograd.numpy as np\n",
    "from scipy.stats import norm\n",
    "import matplotlib.pyplot as plt\n",
    "%matplotlib inline\n",
    "\n",
    "from distributions import Gaussian\n",
    "# from stein_LSoperator import stein_LS\n",
    "\n",
    "# from kernels import InverseMultiquadricKernel, InverseMultiquadricKernel_pre\n",
    "from discrepancies import KSD\n",
    "# from stein_cc import stein_cc\n",
    "\n",
    "import seaborn as sns\n",
    "sns.set()"
   ]
  },
  {
   "cell_type": "code",
   "execution_count": 2,
   "metadata": {},
   "outputs": [],
   "source": [
    "# p has known log-lik derivative\n",
    "# q only has a set of samples\n",
    "n = 100\n",
    "cov = (\n",
    "        0.9*(np.ones([2, 2]) -\n",
    "             np.eye(2)).T +\n",
    "             np.eye(2)*1.3\n",
    "    )\n",
    "\n",
    "# p = Gaussian(dict(mu=np.array([0, 0.]), sigma=np.eye(2)))\n",
    "# q = Gaussian(dict(mu=np.array([1.6, 2.0]), sigma=cov))\n",
    "\n",
    "p = Gaussian(dict(mu=np.array([0., 0., 0.]), sigma=np.eye(3)))\n",
    "q = p\n",
    "q_dat = q.sampler(n)"
   ]
  },
  {
   "cell_type": "code",
   "execution_count": 3,
   "metadata": {},
   "outputs": [],
   "source": [
    "gaussian_ksd = KSD('imq', dict(c=1, beta=-0.5), p=p, q=q_dat)\n",
    "gaussian_ksd_pre = KSD('imq_pre', dict(c=1, beta=0.5), p=p, q=q_dat)"
   ]
  },
  {
   "cell_type": "code",
   "execution_count": 4,
   "metadata": {},
   "outputs": [
    {
     "name": "stderr",
     "output_type": "stream",
     "text": [
      "100%|██████████| 100/100 [00:10<00:00,  9.98it/s]\n"
     ]
    }
   ],
   "source": [
    "ksd_list = gaussian_ksd.discrepancy()\n",
    "ksd_list_pre = gaussian_ksd_pre.discrepancy_pre()"
   ]
  },
  {
   "cell_type": "code",
   "execution_count": 5,
   "metadata": {},
   "outputs": [
    {
     "data": {
      "text/plain": [
       "0.04877782101020252"
      ]
     },
     "execution_count": 5,
     "metadata": {},
     "output_type": "execute_result"
    }
   ],
   "source": [
    "ksd_list\n",
    "# for p and q std 3 dim multivariate Gaussian\n",
    "# n=100 gives 0.04877782102994216\n",
    "# n=1000 gives 0.006897802038558899 good enough\n",
    "# n=10000 gives 0.000541281056554173"
   ]
  },
  {
   "cell_type": "code",
   "execution_count": 6,
   "metadata": {},
   "outputs": [
    {
     "data": {
      "text/plain": [
       "0.04877782111836336"
      ]
     },
     "execution_count": 6,
     "metadata": {},
     "output_type": "execute_result"
    }
   ],
   "source": [
    "ksd_list_pre"
   ]
  },
  {
   "cell_type": "code",
   "execution_count": 7,
   "metadata": {},
   "outputs": [],
   "source": [
    "q_dat_ = q_dat[:,np.newaxis]"
   ]
  },
  {
   "cell_type": "code",
   "execution_count": 8,
   "metadata": {},
   "outputs": [
    {
     "name": "stdout",
     "output_type": "stream",
     "text": [
      "(100, 1, 3)\n"
     ]
    }
   ],
   "source": [
    "print(q_dat_.shape)\n",
    "x, y = np.meshgrid(q_dat_, q_dat_)"
   ]
  },
  {
   "cell_type": "code",
   "execution_count": 9,
   "metadata": {},
   "outputs": [],
   "source": [
    "def my_func(a):\n",
    "     \"\"\"Average first and last element of a 1-D array\"\"\"\n",
    "     return (a[0] + a[-1]) * 0.5\n",
    "b = np.array([[1,2], [4,5], [7,8]])"
   ]
  },
  {
   "cell_type": "code",
   "execution_count": 10,
   "metadata": {},
   "outputs": [
    {
     "data": {
      "text/plain": [
       "array([4., 5.])"
      ]
     },
     "execution_count": 10,
     "metadata": {},
     "output_type": "execute_result"
    }
   ],
   "source": [
    "np.apply_along_axis(my_func, 0, b)"
   ]
  },
  {
   "cell_type": "code",
   "execution_count": 11,
   "metadata": {},
   "outputs": [
    {
     "data": {
      "text/plain": [
       "array([1.5, 4.5, 7.5])"
      ]
     },
     "execution_count": 11,
     "metadata": {},
     "output_type": "execute_result"
    }
   ],
   "source": [
    "np.apply_along_axis(my_func, 1, b)"
   ]
  },
  {
   "cell_type": "code",
   "execution_count": null,
   "metadata": {},
   "outputs": [],
   "source": []
  }
 ],
 "metadata": {
  "interpreter": {
   "hash": "57d879c1bab31ddce3f98747a90aac1ecdf0d747d4f9b6f921c92f41b19b21c9"
  },
  "kernelspec": {
   "display_name": "Python 3.8.12 64-bit ('pytorch_env': conda)",
   "language": "python",
   "name": "python3"
  },
  "language_info": {
   "codemirror_mode": {
    "name": "ipython",
    "version": 3
   },
   "file_extension": ".py",
   "mimetype": "text/x-python",
   "name": "python",
   "nbconvert_exporter": "python",
   "pygments_lexer": "ipython3",
   "version": "3.8.12"
  },
  "orig_nbformat": 4
 },
 "nbformat": 4,
 "nbformat_minor": 2
}
